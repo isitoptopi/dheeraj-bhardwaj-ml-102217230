{
  "nbformat": 4,
  "nbformat_minor": 0,
  "metadata": {
    "colab": {
      "provenance": [],
      "include_colab_link": true
    },
    "kernelspec": {
      "name": "python3",
      "display_name": "Python 3"
    },
    "language_info": {
      "name": "python"
    }
  },
  "cells": [
    {
      "cell_type": "markdown",
      "metadata": {
        "id": "view-in-github",
        "colab_type": "text"
      },
      "source": [
        "<a href=\"https://colab.research.google.com/github/isitoptopi/dheeraj-bhardwaj-ml-102217230/blob/main/1ML_Assignment1.ipynb\" target=\"_parent\"><img src=\"https://colab.research.google.com/assets/colab-badge.svg\" alt=\"Open In Colab\"/></a>"
      ]
    },
    {
      "cell_type": "markdown",
      "source": [
        "Q1: Questions on Basic NumPy Array"
      ],
      "metadata": {
        "id": "kW0MNuc2nIzt"
      }
    },
    {
      "cell_type": "code",
      "execution_count": null,
      "metadata": {
        "id": "1IYzH0aUlWPt"
      },
      "outputs": [],
      "source": [
        "import numpy as np"
      ]
    },
    {
      "cell_type": "markdown",
      "source": [
        "(a) Reverse the NumPy array: arr = np.array([1, 2, 3, 6, 4, 5])\n"
      ],
      "metadata": {
        "id": "Y8tjS9GcnZvG"
      }
    },
    {
      "cell_type": "code",
      "source": [
        "arr=np.array([1,2,3,6,4,5])\n",
        "print(arr)\n",
        "print(np.flip(arr))"
      ],
      "metadata": {
        "colab": {
          "base_uri": "https://localhost:8080/"
        },
        "id": "2A-L3l4ompzA",
        "outputId": "89b8b24d-2702-43b0-c7a5-232a30ca984e"
      },
      "execution_count": null,
      "outputs": [
        {
          "output_type": "stream",
          "name": "stdout",
          "text": [
            "[1 2 3 6 4 5]\n",
            "[5 4 6 3 2 1]\n"
          ]
        }
      ]
    },
    {
      "cell_type": "markdown",
      "source": [
        "(b) Flatten the NumPy arr: array1 = np.array([[1, 2, 3], [2, 4, 5], [1, 2, 3]]) using any two\n",
        "NumPy in-built methods\n"
      ],
      "metadata": {
        "id": "pyHzMsQ_nM0k"
      }
    },
    {
      "cell_type": "code",
      "source": [
        "array1=np.array([[1,2,3],[2,4,5],[1,2,3]])\n",
        "print(array1.flatten())\n",
        "print(np.ravel(array1))"
      ],
      "metadata": {
        "colab": {
          "base_uri": "https://localhost:8080/"
        },
        "id": "iEMZ_Q_AnNMt",
        "outputId": "ead417d9-6f64-47cf-d8f2-42ec58fbdad5"
      },
      "execution_count": null,
      "outputs": [
        {
          "output_type": "stream",
          "name": "stdout",
          "text": [
            "[1 2 3 2 4 5 1 2 3]\n",
            "[1 2 3 2 4 5 1 2 3]\n"
          ]
        }
      ]
    },
    {
      "cell_type": "markdown",
      "source": [
        "(c) Compare the following numpy arrays:\n",
        "arr1 = np.array([[1, 2], [3, 4]])\n",
        "arr2 = np.array([[1, 2], [3, 4]])"
      ],
      "metadata": {
        "id": "G2DY3R8CoXOH"
      }
    },
    {
      "cell_type": "code",
      "source": [
        "arr1=np.array([[1,2],[3,4]])\n",
        "arr2=np.array([[1,2],[3,4]])\n",
        "cmp=arr1==arr2\n",
        "eq_arr=cmp.all()\n",
        "print(eq_arr)"
      ],
      "metadata": {
        "colab": {
          "base_uri": "https://localhost:8080/"
        },
        "id": "uAVmdWqxoXnP",
        "outputId": "54fb34b3-3dde-4f25-a851-64c345280d0d"
      },
      "execution_count": null,
      "outputs": [
        {
          "output_type": "stream",
          "name": "stdout",
          "text": [
            "True\n"
          ]
        }
      ]
    },
    {
      "cell_type": "markdown",
      "source": [
        "(d) Find the most frequent value and their indice(s) in the following arrays:\n",
        "\n",
        "i. x = np.array([1,2,3,4,5,1,2,1,1,1])\n",
        "\n",
        "ii. y = np.array([1, 1, 1, 2, 3, 4, 2, 4, 3, 3, ])\n"
      ],
      "metadata": {
        "id": "MpMF5McupXVG"
      }
    },
    {
      "cell_type": "code",
      "source": [
        "x=np.array([1,2,3,4,5,1,2,1,1,1])\n",
        "y=np.array([1,1,1,2,3,4,2,4,3,3])\n",
        "x_freq=np.bincount(x).argmax()\n",
        "y_freq=np.bincount(y).argmax()\n",
        "print(x)\n",
        "print(x_freq)\n",
        "print(np.where(x==x_freq))\n",
        "print(y)\n",
        "print(y_freq)\n",
        "print(np.where(y==y_freq))"
      ],
      "metadata": {
        "colab": {
          "base_uri": "https://localhost:8080/"
        },
        "id": "QkKIeNg2pXrn",
        "outputId": "5b9af8ec-b243-422f-af48-6cf95f5897c3"
      },
      "execution_count": null,
      "outputs": [
        {
          "output_type": "stream",
          "name": "stdout",
          "text": [
            "[1 2 3 4 5 1 2 1 1 1]\n",
            "1\n",
            "(array([0, 5, 7, 8, 9]),)\n",
            "[1 1 1 2 3 4 2 4 3 3]\n",
            "1\n",
            "(array([0, 1, 2]),)\n"
          ]
        }
      ]
    },
    {
      "cell_type": "markdown",
      "source": [
        "(e) For the array gfg = np.matrix('[4, 1, 9; 12, 3, 1; 4, 5, 6]'), find\n",
        "\n",
        "i. Sum of all elements\n",
        "\n",
        "ii. Sum of all elements row-wise\n",
        "\n",
        "iii. Sum of all elements column-wise"
      ],
      "metadata": {
        "id": "oYF8pqybrnln"
      }
    },
    {
      "cell_type": "code",
      "source": [
        "gfg=np.matrix('[4,1,9;12,3,1;4,5,6]')\n",
        "print(gfg)\n",
        "print(np.sum(gfg))\n",
        "print(np.sum(gfg,axis=0))\n",
        "print(np.sum(gfg,axis=1))"
      ],
      "metadata": {
        "id": "yW0OrU61rn_k"
      },
      "execution_count": null,
      "outputs": []
    },
    {
      "cell_type": "markdown",
      "source": [
        "(f) For the matrix: n_array = np.array([[55, 25, 15],[30, 44, 2],[11, 45, 77]]), find\n",
        "\n",
        "i. Sum of diagonal elements\n",
        "\n",
        "ii. Eigen values of matrix\n",
        "\n",
        "iii. Eigen vectors of matrix\n",
        "\n",
        "iv. Inverse of matrix\n",
        "\n",
        "v. Determinant of matrix\n"
      ],
      "metadata": {
        "id": "TwSwpGJStrBe"
      }
    },
    {
      "cell_type": "code",
      "source": [
        "n_array=np.array([[55,25,15],[30,44,2],[11,45,77]])\n",
        "print(n_array)\n",
        "print(np.sum(np.diagonal(n_array)))\n",
        "#print(np.trace(n_array))\n",
        "w,v=np.linalg.eig(n_array)\n",
        "print('Eigen values:',w)\n",
        "print('Eigen vector:',v)\n",
        "print('Inverse :')\n",
        "print(np.linalg.inv(n_array))\n",
        "print(np.linalg.det(n_array))"
      ],
      "metadata": {
        "colab": {
          "base_uri": "https://localhost:8080/"
        },
        "id": "4VE_jalwtrL-",
        "outputId": "7f003c07-717e-4959-802d-4f98b7669c19"
      },
      "execution_count": null,
      "outputs": [
        {
          "output_type": "stream",
          "name": "stdout",
          "text": [
            "[[55 25 15]\n",
            " [30 44  2]\n",
            " [11 45 77]]\n",
            "176\n",
            "Eigen values: [98.16835147 28.097044   49.73460452]\n",
            "Eigen vector: [[ 0.4574917   0.34637121 -0.15017693]\n",
            " [ 0.28447814 -0.72784061 -0.4852124 ]\n",
            " [ 0.84248058  0.59184038  0.8614034 ]]\n",
            "Inverse :\n",
            "[[ 0.02404141 -0.00911212 -0.00444671]\n",
            " [-0.01667882  0.02966905  0.0024785 ]\n",
            " [ 0.00631287 -0.01603732  0.01217379]]\n",
            "137180.0000000001\n"
          ]
        }
      ]
    },
    {
      "cell_type": "markdown",
      "source": [
        "(g) Multiply the following matrices and also find covariance between matrices using NumPy:\n",
        "\n",
        "i. p = [[1, 2], [2, 3]]\n",
        "q = [[4, 5], [6, 7]]\n",
        "\n",
        "ii. p = [[1, 2], [2, 3], [4, 5]]\n",
        "q = [[4, 5, 1], [6, 7, 2]]\n"
      ],
      "metadata": {
        "id": "AJFgfuejvpHO"
      }
    },
    {
      "cell_type": "code",
      "source": [
        "p=np.array([[1,2],[2,3]])\n",
        "q=np.array([[4,5],[6,7]])\n",
        "print(np.dot(p,q))\n",
        "print(np.cov(p,q))"
      ],
      "metadata": {
        "colab": {
          "base_uri": "https://localhost:8080/"
        },
        "id": "8mMBaTLVvpYV",
        "outputId": "623c65f6-5bba-41a0-bda8-dfde332de55d"
      },
      "execution_count": null,
      "outputs": [
        {
          "output_type": "stream",
          "name": "stdout",
          "text": [
            "[[16 19]\n",
            " [26 31]]\n",
            "[[0.5 0.5 0.5 0.5]\n",
            " [0.5 0.5 0.5 0.5]\n",
            " [0.5 0.5 0.5 0.5]\n",
            " [0.5 0.5 0.5 0.5]]\n"
          ]
        }
      ]
    },
    {
      "cell_type": "code",
      "source": [
        "p=np.array([[1,2],[2,3],[4,5]])\n",
        "q=np.array([[4,5,1],[6,7,2]])\n",
        "p_q=np.dot(p,q)\n",
        "print(p_q)\n",
        "print(np.cov(p_q))"
      ],
      "metadata": {
        "colab": {
          "base_uri": "https://localhost:8080/"
        },
        "id": "pGOOtm5Nxei1",
        "outputId": "21927057-3942-4eef-c881-d0383e41324e"
      },
      "execution_count": null,
      "outputs": [
        {
          "output_type": "stream",
          "name": "stdout",
          "text": [
            "[[16 19  5]\n",
            " [26 31  8]\n",
            " [46 55 14]]\n",
            "[[ 54.33333333  89.16666667 158.83333333]\n",
            " [ 89.16666667 146.33333333 260.66666667]\n",
            " [158.83333333 260.66666667 464.33333333]]\n"
          ]
        }
      ]
    },
    {
      "cell_type": "markdown",
      "source": [
        "(h) For the matrices: x = np.array([[2, 3, 4], [3, 2, 9]]); y = np.array([[1, 5, 0], [5, 10, 3]]),\n",
        "\n",
        "find inner, outer and cartesian product?\n"
      ],
      "metadata": {
        "id": "-Uw0T7R9weUl"
      }
    },
    {
      "cell_type": "code",
      "source": [
        "x=np.array([[2,3,4],[3,2,9]])\n",
        "y=np.array([[1,5,0],[5,10,3]])\n",
        "print(np.inner(x,y))\n",
        "print(np.outer(x,y))\n"
      ],
      "metadata": {
        "id": "7QitYZbhwgtt"
      },
      "execution_count": null,
      "outputs": []
    },
    {
      "cell_type": "markdown",
      "source": [
        "Q2: Based on NumPy Mathematics and Statistics"
      ],
      "metadata": {
        "id": "iF8kgSGt0T6t"
      }
    },
    {
      "cell_type": "markdown",
      "source": [
        "(a) For the array: array = np.array([[1, -2, 3],[-4, 5, -6]])\n",
        "\n",
        "i. Find element-wise absolute value\n",
        "\n",
        "ii. Find the 25th, 50th, and 75th percentile of flattened array, for each column, for each\n",
        "row.\n",
        "\n",
        "iii. Mean, Median and Standard Deviation of flattened array, of each column, and\n",
        "each row"
      ],
      "metadata": {
        "id": "6kSP1NWM0VFc"
      }
    },
    {
      "cell_type": "code",
      "source": [
        "array=np.array([[1,-2,3],[-4,5,-6]])\n",
        "print(np.absolute(array))\n",
        "f_array=array.flatten()\n",
        "print(np.percentile(f_array,25))\n",
        "print(np.percentile(f_array,50))\n",
        "print(np.percentile(f_array,75))"
      ],
      "metadata": {
        "id": "7T9df_dT0URk",
        "colab": {
          "base_uri": "https://localhost:8080/"
        },
        "outputId": "d3929494-5bf7-4a97-8ca7-5380f5b4bc2c"
      },
      "execution_count": null,
      "outputs": [
        {
          "output_type": "stream",
          "name": "stdout",
          "text": [
            "[[1 2 3]\n",
            " [4 5 6]]\n",
            "-3.5\n",
            "-0.5\n",
            "2.5\n"
          ]
        }
      ]
    },
    {
      "cell_type": "markdown",
      "source": [
        "(b) For the array: a = np.array([-1.8, -1.6, -0.5, 0.5,1.6, 1.8, 3.0]). Find floor, ceiling\n",
        "and truncated value, rounded values"
      ],
      "metadata": {
        "id": "k5GL7NBA1009"
      }
    },
    {
      "cell_type": "code",
      "source": [
        "a=np.array([-1.8,-1.6,-0.5,0.5,1.6,1.8,3.0])\n",
        "print(np.floor(a))\n",
        "print(np.ceil(a))\n",
        "print(np.trunc(a))\n",
        "print(np.round(a))"
      ],
      "metadata": {
        "id": "-dg358Jx11MU",
        "colab": {
          "base_uri": "https://localhost:8080/"
        },
        "outputId": "be664a48-9dae-44d6-d136-185a8a72f8ef"
      },
      "execution_count": null,
      "outputs": [
        {
          "output_type": "stream",
          "name": "stdout",
          "text": [
            "[-2. -2. -1.  0.  1.  1.  3.]\n",
            "[-1. -1. -0.  1.  2.  2.  3.]\n",
            "[-1. -1. -0.  0.  1.  1.  3.]\n",
            "[-2. -2. -0.  0.  2.  2.  3.]\n"
          ]
        }
      ]
    },
    {
      "cell_type": "markdown",
      "source": [
        "Q3: Based on Searching and Sorting"
      ],
      "metadata": {
        "id": "hTXp1g_Y11XU"
      }
    },
    {
      "cell_type": "markdown",
      "source": [
        "(a) For the array: array = np.array([10, 52, 62, 16, 16, 54, 453]), find\n",
        "\n",
        "i. Sorted array\n",
        "\n",
        "ii. Indices of sorted array\n",
        "\n",
        "iii. 4 smallest elements\n",
        "\n",
        "iv. 5 largest elements\n"
      ],
      "metadata": {
        "id": "0w5xtVbx17m0"
      }
    },
    {
      "cell_type": "code",
      "source": [
        "array=np.array([10,52,62,16,16,54,453])\n",
        "print(np.sort(array))\n",
        "print(np.argsort(array))\n",
        "print(np.sort(array)[:4])\n",
        "print(np.sort(array)[-5:])"
      ],
      "metadata": {
        "id": "0LXWFY6N11gV",
        "colab": {
          "base_uri": "https://localhost:8080/"
        },
        "outputId": "abfa5ccb-6e82-46e3-892e-fe7c3b148721"
      },
      "execution_count": null,
      "outputs": [
        {
          "output_type": "stream",
          "name": "stdout",
          "text": [
            "[ 10  16  16  52  54  62 453]\n",
            "[0 3 4 1 5 2 6]\n",
            "[10 16 16 52]\n",
            "[ 16  52  54  62 453]\n"
          ]
        }
      ]
    },
    {
      "cell_type": "markdown",
      "source": [
        "(b) For the array: array = np.array([1.0, 1.2, 2.2, 2.0, 3.0, 2.0]), find\n",
        "\n",
        "i. Integer elements only\n",
        "\n",
        "ii. Float elements only"
      ],
      "metadata": {
        "id": "dhpLojem11nM"
      }
    },
    {
      "cell_type": "code",
      "source": [
        "array=np.array([1.0,1.2,2.2,2.0,3.0,2.0])\n",
        "print(array[array==array.astype(int)])\n",
        "print(array[array!=array.astype(int)])"
      ],
      "metadata": {
        "id": "vyc8Cm4c11tl",
        "colab": {
          "base_uri": "https://localhost:8080/"
        },
        "outputId": "7a398c70-3ef2-4f1e-a2d9-6b7150b075bd"
      },
      "execution_count": null,
      "outputs": [
        {
          "output_type": "stream",
          "name": "stdout",
          "text": [
            "[1. 2. 3. 2.]\n",
            "[1.2 2.2]\n"
          ]
        }
      ]
    },
    {
      "cell_type": "markdown",
      "source": [
        "Q4:"
      ],
      "metadata": {
        "id": "DWIPRh282HP9"
      }
    },
    {
      "cell_type": "markdown",
      "source": [
        "\n",
        "(a) Write a function named img_to_array(path) that reads an image from a specified path and\n",
        "save it as text file on local machine? (Note: use separate cases for RGB and Grey Scale\n",
        "images)\n"
      ],
      "metadata": {
        "id": "LH5F3Q0W2Cbd"
      }
    },
    {
      "cell_type": "code",
      "source": [
        "from PIL import Image\n",
        "import numpy as np\n",
        "\n",
        "def img_to_array(path):\n",
        "    # Open the image file\n",
        "    with Image.open(path) as img:\n",
        "        # Convert the image to a numpy array\n",
        "        img_array = np.array(img)\n",
        "\n",
        "        # Determine the image mode (RGB or grayscale)\n",
        "        if img_array.ndim == 3:  # RGB image\n",
        "            mode = 'RGB'\n",
        "        elif img_array.ndim == 2:  # Grayscale image\n",
        "            mode = 'Grayscale'\n",
        "        else:\n",
        "            raise ValueError(\"Unsupported image mode or format\")\n",
        "\n",
        "        # Determine the output filename based on image mode\n",
        "        output_filename = path.rsplit('.', 1)[0] + '_array.txt'\n",
        "\n",
        "        # Write the image data to a text file\n",
        "        with open(output_filename, 'w') as f:\n",
        "            if mode == 'RGB':\n",
        "                # Format RGB pixel values as tuples\n",
        "                for row in img_array:\n",
        "                    row_data = ' '.join(f'({r},{g},{b})' for r, g, b in row)\n",
        "                    f.write(row_data + '\\n')\n",
        "            elif mode == 'Grayscale':\n",
        "                # Format grayscale pixel values as single values\n",
        "                for row in img_array:\n",
        "                    row_data = ' '.join(str(pixel) for pixel in row)\n",
        "                    f.write(row_data + '\\n')\n",
        "\n",
        "    print(f\"Image data has been written to {output_filename}\")\n",
        "\n",
        "# Example usage\n",
        "img_to_array('download.jpeg')"
      ],
      "metadata": {
        "id": "ke_vG3Mc2Css",
        "colab": {
          "base_uri": "https://localhost:8080/"
        },
        "outputId": "45e7e11e-c94e-4918-e4bf-d23c686e392b"
      },
      "execution_count": null,
      "outputs": [
        {
          "output_type": "stream",
          "name": "stdout",
          "text": [
            "Image data has been written to download_array.txt\n"
          ]
        }
      ]
    }
  ]
}